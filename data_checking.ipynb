{
 "cells": [
  {
   "cell_type": "code",
   "execution_count": 1,
   "id": "b3fc7b54",
   "metadata": {},
   "outputs": [],
   "source": [
    "import os\n",
    "import re\n",
    "import json\n",
    "import pickle\n",
    "import argparse\n",
    "import scipy.sparse as ssp\n",
    "from collections import defaultdict\n",
    "\n",
    "from tqdm import tqdm\n",
    "import pandas as pd\n",
    "import numpy as np\n",
    "import dgl\n",
    "import torch\n",
    "import torchtext.legacy as torchtext\n",
    "from builder import PandasGraphBuilder\n",
    "from data_utils import *\n",
    "import layers\n",
    "import sampler as sampler_module\n",
    "import evaluation"
   ]
  },
  {
   "cell_type": "markdown",
   "id": "51b55f79",
   "metadata": {},
   "source": [
    "### K-Deep fashion으로 적용"
   ]
  },
  {
   "cell_type": "code",
   "execution_count": 9,
   "id": "5b41d2d3",
   "metadata": {},
   "outputs": [],
   "source": [
    "directory = \"./kdata\"\n",
    "output_path = \"./output/kdata_new9.pkl\""
   ]
  },
  {
   "cell_type": "code",
   "execution_count": 10,
   "id": "e9077557",
   "metadata": {},
   "outputs": [
    {
     "name": "stdout",
     "output_type": "stream",
     "text": [
      "user         0\n",
      "user_name    0\n",
      "r_gender     0\n",
      "age          0\n",
      "dtype: int64\n",
      "(539, 4)\n"
     ]
    },
    {
     "data": {
      "text/html": [
       "<div>\n",
       "<style scoped>\n",
       "    .dataframe tbody tr th:only-of-type {\n",
       "        vertical-align: middle;\n",
       "    }\n",
       "\n",
       "    .dataframe tbody tr th {\n",
       "        vertical-align: top;\n",
       "    }\n",
       "\n",
       "    .dataframe thead th {\n",
       "        text-align: right;\n",
       "    }\n",
       "</style>\n",
       "<table border=\"1\" class=\"dataframe\">\n",
       "  <thead>\n",
       "    <tr style=\"text-align: right;\">\n",
       "      <th></th>\n",
       "      <th>user</th>\n",
       "      <th>user_name</th>\n",
       "      <th>r_gender</th>\n",
       "      <th>age</th>\n",
       "    </tr>\n",
       "  </thead>\n",
       "  <tbody>\n",
       "    <tr>\n",
       "      <th>0</th>\n",
       "      <td>0</td>\n",
       "      <td>590</td>\n",
       "      <td>2</td>\n",
       "      <td>3</td>\n",
       "    </tr>\n",
       "    <tr>\n",
       "      <th>1</th>\n",
       "      <td>1</td>\n",
       "      <td>1403</td>\n",
       "      <td>2</td>\n",
       "      <td>1</td>\n",
       "    </tr>\n",
       "  </tbody>\n",
       "</table>\n",
       "</div>"
      ],
      "text/plain": [
       "   user  user_name  r_gender  age\n",
       "0     0        590         2    3\n",
       "1     1       1403         2    1"
      ]
     },
     "execution_count": 10,
     "metadata": {},
     "output_type": "execute_result"
    }
   ],
   "source": [
    "users = pd.read_csv(os.path.join(directory, \"user_data.csv\"), index_col=0)\n",
    "print(users.isna().sum())\n",
    "print(users.shape)\n",
    "users.head(2)"
   ]
  },
  {
   "cell_type": "code",
   "execution_count": 11,
   "id": "a51164d0",
   "metadata": {},
   "outputs": [
    {
     "name": "stdout",
     "output_type": "stream",
     "text": [
      "(539, 3)\n"
     ]
    },
    {
     "data": {
      "text/html": [
       "<div>\n",
       "<style scoped>\n",
       "    .dataframe tbody tr th:only-of-type {\n",
       "        vertical-align: middle;\n",
       "    }\n",
       "\n",
       "    .dataframe tbody tr th {\n",
       "        vertical-align: top;\n",
       "    }\n",
       "\n",
       "    .dataframe thead th {\n",
       "        text-align: right;\n",
       "    }\n",
       "</style>\n",
       "<table border=\"1\" class=\"dataframe\">\n",
       "  <thead>\n",
       "    <tr style=\"text-align: right;\">\n",
       "      <th></th>\n",
       "      <th>userID</th>\n",
       "      <th>r_gender</th>\n",
       "      <th>age</th>\n",
       "    </tr>\n",
       "  </thead>\n",
       "  <tbody>\n",
       "    <tr>\n",
       "      <th>0</th>\n",
       "      <td>590</td>\n",
       "      <td>2</td>\n",
       "      <td>3</td>\n",
       "    </tr>\n",
       "    <tr>\n",
       "      <th>1</th>\n",
       "      <td>1403</td>\n",
       "      <td>2</td>\n",
       "      <td>1</td>\n",
       "    </tr>\n",
       "  </tbody>\n",
       "</table>\n",
       "</div>"
      ],
      "text/plain": [
       "   userID  r_gender  age\n",
       "0     590         2    3\n",
       "1    1403         2    1"
      ]
     },
     "execution_count": 11,
     "metadata": {},
     "output_type": "execute_result"
    }
   ],
   "source": [
    "columns = ['user_name', 'r_gender', 'age']\n",
    "users = users[columns]\n",
    "users.columns = ['userID', 'r_gender', 'age']\n",
    "users = users.dropna(subset=['userID'])\n",
    "print(users.shape)\n",
    "users.head(2)"
   ]
  },
  {
   "cell_type": "code",
   "execution_count": 12,
   "id": "54256d0d",
   "metadata": {},
   "outputs": [
    {
     "name": "stdout",
     "output_type": "stream",
     "text": [
      "(539, 4)\n"
     ]
    },
    {
     "data": {
      "text/html": [
       "<div>\n",
       "<style scoped>\n",
       "    .dataframe tbody tr th:only-of-type {\n",
       "        vertical-align: middle;\n",
       "    }\n",
       "\n",
       "    .dataframe tbody tr th {\n",
       "        vertical-align: top;\n",
       "    }\n",
       "\n",
       "    .dataframe thead th {\n",
       "        text-align: right;\n",
       "    }\n",
       "</style>\n",
       "<table border=\"1\" class=\"dataframe\">\n",
       "  <thead>\n",
       "    <tr style=\"text-align: right;\">\n",
       "      <th></th>\n",
       "      <th>userID</th>\n",
       "      <th>r_gender_1</th>\n",
       "      <th>r_gender_2</th>\n",
       "      <th>user_feats</th>\n",
       "    </tr>\n",
       "  </thead>\n",
       "  <tbody>\n",
       "    <tr>\n",
       "      <th>0</th>\n",
       "      <td>590</td>\n",
       "      <td>0</td>\n",
       "      <td>1</td>\n",
       "      <td>[0, 1]</td>\n",
       "    </tr>\n",
       "    <tr>\n",
       "      <th>1</th>\n",
       "      <td>1403</td>\n",
       "      <td>0</td>\n",
       "      <td>1</td>\n",
       "      <td>[0, 1]</td>\n",
       "    </tr>\n",
       "  </tbody>\n",
       "</table>\n",
       "</div>"
      ],
      "text/plain": [
       "   userID  r_gender_1  r_gender_2 user_feats\n",
       "0     590           0           1     [0, 1]\n",
       "1    1403           0           1     [0, 1]"
      ]
     },
     "execution_count": 12,
     "metadata": {},
     "output_type": "execute_result"
    }
   ],
   "source": [
    "users = pd.get_dummies(users, columns = ['r_gender'])\n",
    "users['user_feats'] = list(users[['r_gender_1', 'r_gender_2']].values)\n",
    "del users[\"age\"]\n",
    "print(users.shape)\n",
    "users.head(2)"
   ]
  },
  {
   "cell_type": "code",
   "execution_count": 13,
   "id": "6180122c",
   "metadata": {},
   "outputs": [
    {
     "name": "stdout",
     "output_type": "stream",
     "text": [
      "item         0\n",
      "item_name    0\n",
      "era          0\n",
      "style        0\n",
      "gender       0\n",
      "season       0\n",
      "tpo          0\n",
      "dtype: int64\n",
      "(8418, 7)\n"
     ]
    },
    {
     "data": {
      "text/html": [
       "<div>\n",
       "<style scoped>\n",
       "    .dataframe tbody tr th:only-of-type {\n",
       "        vertical-align: middle;\n",
       "    }\n",
       "\n",
       "    .dataframe tbody tr th {\n",
       "        vertical-align: top;\n",
       "    }\n",
       "\n",
       "    .dataframe thead th {\n",
       "        text-align: right;\n",
       "    }\n",
       "</style>\n",
       "<table border=\"1\" class=\"dataframe\">\n",
       "  <thead>\n",
       "    <tr style=\"text-align: right;\">\n",
       "      <th></th>\n",
       "      <th>item</th>\n",
       "      <th>item_name</th>\n",
       "      <th>era</th>\n",
       "      <th>style</th>\n",
       "      <th>gender</th>\n",
       "      <th>season</th>\n",
       "      <th>tpo</th>\n",
       "    </tr>\n",
       "  </thead>\n",
       "  <tbody>\n",
       "    <tr>\n",
       "      <th>0</th>\n",
       "      <td>0</td>\n",
       "      <td>W_00001_60_M.jpg</td>\n",
       "      <td>1960</td>\n",
       "      <td>men mose look</td>\n",
       "      <td>M</td>\n",
       "      <td>spring fall summer</td>\n",
       "      <td>daily esleisure</td>\n",
       "    </tr>\n",
       "    <tr>\n",
       "      <th>1</th>\n",
       "      <td>1</td>\n",
       "      <td>W_00002_60_M.jpg</td>\n",
       "      <td>1960</td>\n",
       "      <td>men mose look</td>\n",
       "      <td>M</td>\n",
       "      <td>spring fall</td>\n",
       "      <td>business casual business formal daily</td>\n",
       "    </tr>\n",
       "  </tbody>\n",
       "</table>\n",
       "</div>"
      ],
      "text/plain": [
       "   item         item_name   era          style gender              season  \\\n",
       "0     0  W_00001_60_M.jpg  1960  men mose look      M  spring fall summer   \n",
       "1     1  W_00002_60_M.jpg  1960  men mose look      M         spring fall   \n",
       "\n",
       "                                     tpo  \n",
       "0                        daily esleisure  \n",
       "1  business casual business formal daily  "
      ]
     },
     "execution_count": 13,
     "metadata": {},
     "output_type": "execute_result"
    }
   ],
   "source": [
    "items = pd.read_csv(os.path.join(directory, \"item_data.csv\"), index_col=0)\n",
    "print(items.isna().sum())\n",
    "print(items.shape)\n",
    "items.head(2)"
   ]
  },
  {
   "cell_type": "code",
   "execution_count": 8,
   "id": "5884caee",
   "metadata": {},
   "outputs": [
    {
     "name": "stdout",
     "output_type": "stream",
     "text": [
      "(8418, 5)\n"
     ]
    },
    {
     "data": {
      "text/html": [
       "<div>\n",
       "<style scoped>\n",
       "    .dataframe tbody tr th:only-of-type {\n",
       "        vertical-align: middle;\n",
       "    }\n",
       "\n",
       "    .dataframe tbody tr th {\n",
       "        vertical-align: top;\n",
       "    }\n",
       "\n",
       "    .dataframe thead th {\n",
       "        text-align: right;\n",
       "    }\n",
       "</style>\n",
       "<table border=\"1\" class=\"dataframe\">\n",
       "  <thead>\n",
       "    <tr style=\"text-align: right;\">\n",
       "      <th></th>\n",
       "      <th>item_id</th>\n",
       "      <th>style</th>\n",
       "      <th>gender</th>\n",
       "      <th>season</th>\n",
       "      <th>tpo</th>\n",
       "    </tr>\n",
       "  </thead>\n",
       "  <tbody>\n",
       "    <tr>\n",
       "      <th>0</th>\n",
       "      <td>0</td>\n",
       "      <td>men mose look</td>\n",
       "      <td>M</td>\n",
       "      <td>spring fall summer</td>\n",
       "      <td>daily esleisure</td>\n",
       "    </tr>\n",
       "    <tr>\n",
       "      <th>1</th>\n",
       "      <td>1</td>\n",
       "      <td>men mose look</td>\n",
       "      <td>M</td>\n",
       "      <td>spring fall</td>\n",
       "      <td>business casual business formal daily</td>\n",
       "    </tr>\n",
       "  </tbody>\n",
       "</table>\n",
       "</div>"
      ],
      "text/plain": [
       "   item_id          style gender              season  \\\n",
       "0        0  men mose look      M  spring fall summer   \n",
       "1        1  men mose look      M         spring fall   \n",
       "\n",
       "                                     tpo  \n",
       "0                        daily esleisure  \n",
       "1  business casual business formal daily  "
      ]
     },
     "execution_count": 8,
     "metadata": {},
     "output_type": "execute_result"
    }
   ],
   "source": [
    "columns = ['item', 'style', 'gender', \"season\", \"tpo\"]\n",
    "items = items[columns]\n",
    "items.columns = [\"item_id\", \"style\", \"gender\", \"season\", \"tpo\"]\n",
    "items = items.dropna(subset=['item_id'])\n",
    "print(items.shape)\n",
    "items.head(2)"
   ]
  },
  {
   "cell_type": "code",
   "execution_count": null,
   "id": "26b61bf5",
   "metadata": {},
   "outputs": [],
   "source": [
    "items = pd.get_dummies(items, columns = ['gender'])\n",
    "print(items.shape)\n",
    "items"
   ]
  },
  {
   "cell_type": "code",
   "execution_count": null,
   "id": "bd071c44",
   "metadata": {},
   "outputs": [],
   "source": [
    "cat_columns = items.columns.drop(['item_id', 'style', \"season\", \"tpo\"])\n",
    "cat_columns"
   ]
  },
  {
   "cell_type": "code",
   "execution_count": null,
   "id": "b5639a2d",
   "metadata": {},
   "outputs": [],
   "source": [
    "items['item_feats'] = list(items[cat_columns].values)\n",
    "print(items.shape)\n",
    "items.head(2)"
   ]
  },
  {
   "cell_type": "code",
   "execution_count": null,
   "id": "4fe3f6b0",
   "metadata": {},
   "outputs": [],
   "source": [
    "items = items[[\"item_id\", \"tpo\", \"item_feats\"]]\n",
    "print(items.shape)\n",
    "items.head(2)"
   ]
  },
  {
   "cell_type": "code",
   "execution_count": null,
   "id": "49e5d2f2",
   "metadata": {},
   "outputs": [],
   "source": [
    "ratings = pd.read_csv(os.path.join(directory, \"rate_data.csv\"), index_col=0)\n",
    "print(ratings.isna().sum())\n",
    "print(ratings.shape)\n",
    "ratings.head(2)"
   ]
  },
  {
   "cell_type": "code",
   "execution_count": null,
   "id": "bf59a9a8",
   "metadata": {},
   "outputs": [],
   "source": [
    "# Filter the users and items that never appear in the rating table.\n",
    "distinct_users_in_ratings = ratings['user'].unique()\n",
    "distinct_items_in_ratings = ratings['item'].unique()\n",
    "users = users[users['userID'].isin(distinct_users_in_ratings)]\n",
    "items = items[items['item_id'].isin(distinct_items_in_ratings)]"
   ]
  },
  {
   "cell_type": "code",
   "execution_count": null,
   "id": "78400aed",
   "metadata": {},
   "outputs": [],
   "source": [
    "ratings.columns = [\"userID\", \"item_id\", \"rating_per_user\"]\n",
    "print(ratings.isna().sum())\n",
    "print(ratings.shape)\n",
    "ratings"
   ]
  },
  {
   "cell_type": "code",
   "execution_count": null,
   "id": "fa3a9682",
   "metadata": {},
   "outputs": [],
   "source": [
    "# Build Graph\n",
    "# 아이템, 유저 DB에 존재하는 rating만 사용\n",
    "user_intersect = set(ratings['userID'].values) & set(users['userID'].values)\n",
    "item_intersect = set(ratings['item_id'].values) & set(items['item_id'].values)\n",
    "\n",
    "new_users = users[users['userID'].isin(user_intersect)]\n",
    "new_items = items[items['item_id'].isin(item_intersect)]\n",
    "new_ratings = ratings[ratings['userID'].isin(user_intersect) & ratings['item_id'].isin(item_intersect)]\n",
    "new_ratings = new_ratings.sort_values('userID')"
   ]
  },
  {
   "cell_type": "code",
   "execution_count": null,
   "id": "01a6e760",
   "metadata": {},
   "outputs": [],
   "source": [
    "label = []\n",
    "for userID, df in new_ratings.groupby('userID'):\n",
    "    idx = int(df.shape[0] * 0.7)\n",
    "    timestamp = [0] * df.shape[0]\n",
    "    timestamp = [x if i < idx else 1 for i, x in enumerate(timestamp)]\n",
    "    label.extend(timestamp)\n",
    "new_ratings['timestamp'] = label\n",
    "print(new_ratings.isna().sum())\n",
    "print(new_ratings.shape)\n",
    "new_ratings"
   ]
  },
  {
   "cell_type": "code",
   "execution_count": null,
   "id": "8f5da077",
   "metadata": {},
   "outputs": [],
   "source": [
    "# Build graph\n",
    "graph_builder = PandasGraphBuilder()\n",
    "graph_builder.add_entities(users, 'userID', 'user')\n",
    "graph_builder.add_entities(items, 'item_id', 'item')\n",
    "graph_builder.add_binary_relations(new_ratings, 'userID', 'item_id', 'rated')\n",
    "graph_builder.add_binary_relations(new_ratings, 'item_id', 'userID', 'rated-by')\n",
    "g = graph_builder.build()"
   ]
  },
  {
   "cell_type": "code",
   "execution_count": null,
   "id": "81842193",
   "metadata": {},
   "outputs": [],
   "source": [
    "# Assign features.\n",
    "node_dict = { \n",
    "    'user': [users, ['userID', 'user_feats'], ['cat', 'int']],\n",
    "    'item': [items, ['item_id', 'item_feats'], ['cat', 'int']]\n",
    "}\n",
    "edge_dict = { \n",
    "    'rated': [new_ratings, ['rating_per_user', 'timestamp']],\n",
    "    'rated-by': [new_ratings, ['rating_per_user', 'timestamp']]\n",
    "}\n",
    "\n",
    "# # Assign features.\n",
    "# node_dict = { \n",
    "#     'user': [users, ['userID'], ['cat']],\n",
    "#     'item': [items, ['item_id'], ['cat']]\n",
    "# }\n",
    "# edge_dict = { \n",
    "#     'rated': [new_ratings, ['rating_per_user', 'timestamp']],\n",
    "#     'rated-by': [new_ratings, ['rating_per_user', 'timestamp']]\n",
    "# }"
   ]
  },
  {
   "cell_type": "code",
   "execution_count": null,
   "id": "079fb035",
   "metadata": {},
   "outputs": [],
   "source": [
    "for key, (df, features ,dtypes) in node_dict.items():\n",
    "    for value, dtype in zip(features, dtypes):\n",
    "        # key = 'user' or 'wine'\n",
    "        # value = 'user_follower_count' 등등\n",
    "        if dtype == 'int':\n",
    "            array = np.array([i for i in df[value].values])\n",
    "            g.nodes[key].data[value] = torch.FloatTensor(array)\n",
    "        elif dtype == 'cat':\n",
    "            g.nodes[key].data[value] = torch.LongTensor(df[value].astype('category').cat.codes.values)\n",
    "\n",
    "for key, (df, features) in edge_dict.items():\n",
    "    for value in features:\n",
    "        g.edges[key].data[value] = torch.LongTensor(df[value].values.astype(np.float32))"
   ]
  },
  {
   "cell_type": "code",
   "execution_count": null,
   "id": "5328a7c4",
   "metadata": {},
   "outputs": [],
   "source": [
    "# 실제 ID와 카테고리 ID 딕셔너리\n",
    "user_cat = users['userID'].astype('category').cat.codes.values\n",
    "item_cat = items['item_id'].astype('category').cat.codes.values\n",
    "\n",
    "user_cat_dict = {k: v for k, v in zip(user_cat, users['userID'].values)}\n",
    "item_cat_dict = {k: v for k, v in zip(item_cat, items['item_id'].values)}\n"
   ]
  },
  {
   "cell_type": "code",
   "execution_count": null,
   "id": "d6be16e6",
   "metadata": {},
   "outputs": [],
   "source": [
    "# Label\n",
    "val_dict = defaultdict(set)\n",
    "for userID, df in new_ratings.groupby('userID'):\n",
    "    temp = df[df['timestamp'] == 1]\n",
    "    val_dict[userID] = set(df[df['timestamp'] == 1]['item_id'].values)"
   ]
  },
  {
   "cell_type": "code",
   "execution_count": null,
   "id": "db9f98a4",
   "metadata": {},
   "outputs": [],
   "source": [
    "# Build title set\n",
    "textual_feature = {\n",
    "    #'style' : items['style'].values,\n",
    "    #\"season\" : items[\"season\"].values,\n",
    "    \"tpo\" : items[\"tpo\"].values\n",
    "}"
   ]
  },
  {
   "cell_type": "code",
   "execution_count": null,
   "id": "ac03b481",
   "metadata": {},
   "outputs": [],
   "source": [
    "items"
   ]
  },
  {
   "cell_type": "code",
   "execution_count": null,
   "id": "dc9af5ee",
   "metadata": {},
   "outputs": [],
   "source": [
    "# Dump the graph and the datasets\n",
    "dataset = {\n",
    "    'train-graph': g,\n",
    "    'user-data': users,\n",
    "    'item-data': items, \n",
    "    'rating-data': new_ratings,\n",
    "    'val-matrix': None,\n",
    "    'test-matrix': torch.LongTensor([[0]]),\n",
    "    'testset': val_dict, \n",
    "    'item-texts': textual_feature,\n",
    "    'item-images': None,\n",
    "    'user-type': 'user',\n",
    "    'item-type': 'item',\n",
    "    'user-category': user_cat_dict,\n",
    "    'item-category': item_cat_dict,\n",
    "    'user-to-item-type': 'rated',\n",
    "    'item-to-user-type': 'rated-by',\n",
    "    'timestamp-edge-column': 'timestamp'}"
   ]
  },
  {
   "cell_type": "code",
   "execution_count": null,
   "id": "ff9cf144",
   "metadata": {},
   "outputs": [],
   "source": [
    "output_path"
   ]
  },
  {
   "cell_type": "code",
   "execution_count": null,
   "id": "5a4c8728",
   "metadata": {},
   "outputs": [],
   "source": [
    "with open(output_path, 'wb') as f:\n",
    "    pickle.dump(dataset, f)\n",
    "\n",
    "    \n",
    "print('Processing Completed!')"
   ]
  },
  {
   "cell_type": "markdown",
   "id": "24435918",
   "metadata": {},
   "source": [
    "# k-fashion Inference dataset 생성"
   ]
  },
  {
   "cell_type": "code",
   "execution_count": null,
   "id": "b4b35029",
   "metadata": {},
   "outputs": [],
   "source": [
    "ratings = pd.DataFrame([[590, 10 , 3], [590, 8413, 4], [590, 7000, 2]], columns = [\"user\", \"item\", \"rate\"])\n",
    "ratings"
   ]
  },
  {
   "cell_type": "code",
   "execution_count": null,
   "id": "2595c69c",
   "metadata": {},
   "outputs": [],
   "source": [
    "# # Filter the users and items that never appear in the rating table.\n",
    "# distinct_users_in_ratings = ratings['user'].unique()\n",
    "# distinct_items_in_ratings = ratings['item'].unique()\n",
    "# users = users[users['userID'].isin(distinct_users_in_ratings)]\n",
    "# items = items[items['item_id'].isin(distinct_items_in_ratings)]"
   ]
  },
  {
   "cell_type": "code",
   "execution_count": null,
   "id": "91a039a4",
   "metadata": {},
   "outputs": [],
   "source": [
    "ratings.columns = [\"userID\", \"item_id\", \"rating_per_user\"]\n",
    "ratings"
   ]
  },
  {
   "cell_type": "code",
   "execution_count": null,
   "id": "9f106436",
   "metadata": {},
   "outputs": [],
   "source": [
    "# Build Graph\n",
    "# 아이템, 유저 DB에 존재하는 rating만 사용\n",
    "item_intersect = set(ratings['item_id'].values) & set(items['item_id'].values)\n",
    "new_items = items[items['item_id'].isin(item_intersect)]\n",
    "new_ratings = ratings[ratings['item_id'].isin(item_intersect)]\n",
    "new_ratings = new_ratings.sort_values('userID')"
   ]
  },
  {
   "cell_type": "code",
   "execution_count": null,
   "id": "7b6b6ef9",
   "metadata": {},
   "outputs": [],
   "source": [
    "new_ratings['timestamp'] = 1"
   ]
  },
  {
   "cell_type": "code",
   "execution_count": null,
   "id": "0fd697ed",
   "metadata": {},
   "outputs": [],
   "source": [
    "new_ratings"
   ]
  },
  {
   "cell_type": "code",
   "execution_count": null,
   "id": "19bab271",
   "metadata": {},
   "outputs": [],
   "source": [
    "# # Assign features.\n",
    "# node_dict = { \n",
    "#     'user': [users, ['userID', 'user_feats'], ['cat', 'int']],\n",
    "#     'item': [items, ['item_id', 'item_feats'], ['cat', 'int']]\n",
    "# }\n",
    "# edge_dict = { \n",
    "#     'rated': [new_ratings, ['rating_per_user', 'timestamp']],\n",
    "#     'rated-by': [new_ratings, ['rating_per_user', 'timestamp']]\n",
    "# }\n",
    "\n",
    "# Assign features.\n",
    "node_dict = { \n",
    "    'user': [users, ['userID'], ['cat']],\n",
    "    'item': [items, ['item_id'], ['cat']]\n",
    "}\n",
    "edge_dict = { \n",
    "    'rated': [new_ratings, ['rating_per_user', 'timestamp']],\n",
    "    'rated-by': [new_ratings, ['rating_per_user', 'timestamp']]\n",
    "}"
   ]
  },
  {
   "cell_type": "code",
   "execution_count": null,
   "id": "3c9f6841",
   "metadata": {},
   "outputs": [],
   "source": [
    "# Build graph\n",
    "graph_builder = PandasGraphBuilder()\n",
    "graph_builder.add_entities(users, 'userID', 'user')\n",
    "graph_builder.add_entities(items, 'item_id', 'item')\n",
    "graph_builder.add_binary_relations(new_ratings, 'userID', 'item_id', 'rated')\n",
    "graph_builder.add_binary_relations(new_ratings, 'item_id', 'userID', 'rated-by')\n",
    "g = graph_builder.build()"
   ]
  },
  {
   "cell_type": "code",
   "execution_count": null,
   "id": "1546e812",
   "metadata": {},
   "outputs": [],
   "source": [
    "for key, (df, features ,dtypes) in node_dict.items():\n",
    "    for value, dtype in zip(features, dtypes):\n",
    "        # key = 'user' or 'wine'\n",
    "        # value = 'user_follower_count' 등등\n",
    "        if dtype == 'int':\n",
    "            array = np.array([i for i in df[value].values])\n",
    "            g.nodes[key].data[value] = torch.FloatTensor(array)\n",
    "        elif dtype == 'cat':\n",
    "            g.nodes[key].data[value] = torch.LongTensor(df[value].astype('category').cat.codes.values)\n",
    "\n",
    "for key, (df, features) in edge_dict.items():\n",
    "    for value in features:\n",
    "        g.edges[key].data[value] = torch.LongTensor(df[value].values.astype(np.float32))"
   ]
  },
  {
   "cell_type": "code",
   "execution_count": null,
   "id": "1b049493",
   "metadata": {},
   "outputs": [],
   "source": [
    "# 실제 ID와 카테고리 ID 딕셔너리\n",
    "user_cat = users['userID'].astype('category').cat.codes.values\n",
    "item_cat = items['item_id'].astype('category').cat.codes.values\n",
    "\n",
    "user_cat_dict = {k: v for k, v in zip(user_cat, users['userID'].values)}\n",
    "item_cat_dict = {k: v for k, v in zip(item_cat, items['item_id'].values)}\n"
   ]
  },
  {
   "cell_type": "code",
   "execution_count": null,
   "id": "0e3530b0",
   "metadata": {},
   "outputs": [],
   "source": [
    "# Label\n",
    "val_dict = defaultdict(set)\n",
    "for userID, df in new_ratings.groupby('userID'):\n",
    "    temp = df[df['timestamp'] == 1]\n",
    "    val_dict[userID] = set(df[df['timestamp'] == 1]['item_id'].values)"
   ]
  },
  {
   "cell_type": "code",
   "execution_count": null,
   "id": "8bf47415",
   "metadata": {},
   "outputs": [],
   "source": [
    "# Build title set\n",
    "textual_feature = {\n",
    "    #'style' : items['style'].values, \n",
    "                   #\"season\" : items[\"season\"].values,\n",
    "                   \"tpo\" : items[\"tpo\"].values}\n",
    "\n",
    "# Dump the graph and the datasets\n",
    "dataset = {\n",
    "    'train-graph': g,\n",
    "    'user-data': users,\n",
    "    'item-data': items, \n",
    "    'rating-data': new_ratings,\n",
    "    'val-matrix': None,\n",
    "    'test-matrix': torch.LongTensor([[0]]),\n",
    "    'testset': val_dict, \n",
    "    'item-texts': textual_feature,\n",
    "    'item-images': None,\n",
    "    'user-type': 'user',\n",
    "    'item-type': 'item',\n",
    "    'user-category': user_cat_dict,\n",
    "    'item-category': item_cat_dict,\n",
    "    'user-to-item-type': 'rated',\n",
    "    'item-to-user-type': 'rated-by',\n",
    "    'timestamp-edge-column': 'timestamp'}"
   ]
  },
  {
   "cell_type": "code",
   "execution_count": null,
   "id": "58ea8b15",
   "metadata": {},
   "outputs": [],
   "source": [
    "with open(\"./output/infer.pkl\", 'wb') as f:\n",
    "    pickle.dump(dataset, f)\n",
    "\n",
    "    \n",
    "print('Processing Completed!')"
   ]
  },
  {
   "cell_type": "code",
   "execution_count": null,
   "id": "bfb4ccd0",
   "metadata": {},
   "outputs": [],
   "source": []
  }
 ],
 "metadata": {
  "kernelspec": {
   "display_name": "pinsage",
   "language": "python",
   "name": "pinsage"
  },
  "language_info": {
   "codemirror_mode": {
    "name": "ipython",
    "version": 3
   },
   "file_extension": ".py",
   "mimetype": "text/x-python",
   "name": "python",
   "nbconvert_exporter": "python",
   "pygments_lexer": "ipython3",
   "version": "3.8.13"
  }
 },
 "nbformat": 4,
 "nbformat_minor": 5
}
