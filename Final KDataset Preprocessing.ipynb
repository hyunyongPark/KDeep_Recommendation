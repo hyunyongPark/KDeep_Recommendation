{
 "cells": [
  {
   "cell_type": "code",
   "execution_count": 15,
   "id": "ede35f30",
   "metadata": {},
   "outputs": [],
   "source": [
    "import os\n",
    "import pandas as pd\n",
    "import numpy as np\n",
    "import matplotlib.pyplot as plt\n",
    "import itertools\n",
    "import json\n",
    "import random"
   ]
  },
  {
   "cell_type": "code",
   "execution_count": 16,
   "id": "a77a0d6b",
   "metadata": {},
   "outputs": [],
   "source": [
    "# 데이터 크기 확인 함수\n",
    "def mem_usage(pandas_obj):\n",
    "    if isinstance(pandas_obj,pd.DataFrame):\n",
    "        usage_b = pandas_obj.memory_usage(deep=True).sum()\n",
    "    else: # we assume if not a df it's a series\n",
    "        usage_b = pandas_obj.memory_usage(deep=True)\n",
    "    usage_mb = usage_b / 1024 ** 2 # convert bytes to megabytes\n",
    "    return \"{:03.2f} MB\".format(usage_mb)\n",
    "\n",
    "## 타입별 평균 크기 확인 함수\n",
    "def type_memory(data) :\n",
    "    for dtype in ['float','int','object']:\n",
    "        selected_dtype = data.select_dtypes(include=[dtype])\n",
    "        mean_usage_b = selected_dtype.memory_usage(deep=True).mean()\n",
    "        mean_usage_mb = mean_usage_b / 1024 ** 2\n",
    "        print(\"Average memory usage for {} columns: {:03.2f} MB\".format(dtype,mean_usage_mb))\n",
    "\n",
    "## 이산형 데이터 사이즈 축소 함소\n",
    "def int_memory_reduce(data) :\n",
    "    data_int = data.select_dtypes(include=['int'])\n",
    "    converted_int = data_int.apply(pd.to_numeric,downcast='unsigned')\n",
    "    print(f\"Before : {mem_usage(data_int)} -> After : {mem_usage(converted_int)}\")\n",
    "    data[converted_int.columns] = converted_int\n",
    "    return data\n",
    "\n",
    "## 연속형 데이터 사이즈 축소 함소\n",
    "def float_memory_reduce(data) :\n",
    "    data_float = data.select_dtypes(include=['float'])\n",
    "    converted_float = data_float.apply(pd.to_numeric,downcast='float')\n",
    "    print(f\"Before : {mem_usage(data_float)} -> After : {mem_usage(converted_float)}\")\n",
    "    data[converted_float.columns] = converted_float\n",
    "    return data\n",
    "\n",
    "## 문자형 데이터 사이즈 축소 함소\n",
    "def object_memory_reduce(data) :\n",
    "    gl_obj = data.select_dtypes(include=['object']).copy()\n",
    "    converted_obj = pd.DataFrame()\n",
    "    for col in gl_obj.columns:\n",
    "        num_unique_values = len(gl_obj[col].unique())\n",
    "        num_total_values = len(gl_obj[col])\n",
    "        if num_unique_values / num_total_values < 0.5:\n",
    "            converted_obj.loc[:,col] = gl_obj[col].astype('category')\n",
    "        else:\n",
    "            converted_obj.loc[:,col] = gl_obj[col]\n",
    "    print(f\"Before : {mem_usage(gl_obj)} -> After : {mem_usage(converted_obj)}\")\n",
    "    data[converted_obj.columns] = converted_obj\n",
    "    return data"
   ]
  },
  {
   "cell_type": "code",
   "execution_count": 17,
   "id": "54dd26d5",
   "metadata": {},
   "outputs": [
    {
     "name": "stdout",
     "output_type": "stream",
     "text": [
      "(38284, 40)\n"
     ]
    },
    {
     "data": {
      "text/html": [
       "<div>\n",
       "<style scoped>\n",
       "    .dataframe tbody tr th:only-of-type {\n",
       "        vertical-align: middle;\n",
       "    }\n",
       "\n",
       "    .dataframe tbody tr th {\n",
       "        vertical-align: top;\n",
       "    }\n",
       "\n",
       "    .dataframe thead th {\n",
       "        text-align: right;\n",
       "    }\n",
       "</style>\n",
       "<table border=\"1\" class=\"dataframe\">\n",
       "  <thead>\n",
       "    <tr style=\"text-align: right;\">\n",
       "      <th></th>\n",
       "      <th>E_id</th>\n",
       "      <th>imgName</th>\n",
       "      <th>era</th>\n",
       "      <th>style</th>\n",
       "      <th>gender</th>\n",
       "      <th>Q1</th>\n",
       "      <th>Q2</th>\n",
       "      <th>Q3</th>\n",
       "      <th>Q411</th>\n",
       "      <th>Q412</th>\n",
       "      <th>...</th>\n",
       "      <th>r_gender</th>\n",
       "      <th>age</th>\n",
       "      <th>mar</th>\n",
       "      <th>job</th>\n",
       "      <th>income</th>\n",
       "      <th>r_style1</th>\n",
       "      <th>r_style2</th>\n",
       "      <th>r_style3</th>\n",
       "      <th>r_style4</th>\n",
       "      <th>r_style5</th>\n",
       "    </tr>\n",
       "  </thead>\n",
       "  <tbody>\n",
       "    <tr>\n",
       "      <th>0</th>\n",
       "      <td>1</td>\n",
       "      <td>W_15268_50_ivy_M.jpg</td>\n",
       "      <td>1950</td>\n",
       "      <td>ivy</td>\n",
       "      <td>M</td>\n",
       "      <td>4</td>\n",
       "      <td>1</td>\n",
       "      <td>1</td>\n",
       "      <td>3</td>\n",
       "      <td>2</td>\n",
       "      <td>...</td>\n",
       "      <td>1</td>\n",
       "      <td>4</td>\n",
       "      <td>2</td>\n",
       "      <td>4</td>\n",
       "      <td>1</td>\n",
       "      <td>2</td>\n",
       "      <td>6</td>\n",
       "      <td>2</td>\n",
       "      <td>2</td>\n",
       "      <td>1</td>\n",
       "    </tr>\n",
       "    <tr>\n",
       "      <th>1</th>\n",
       "      <td>2</td>\n",
       "      <td>W_16543_50_ivy_M.jpg</td>\n",
       "      <td>1950</td>\n",
       "      <td>ivy</td>\n",
       "      <td>M</td>\n",
       "      <td>2</td>\n",
       "      <td>1</td>\n",
       "      <td>2</td>\n",
       "      <td>2</td>\n",
       "      <td>2</td>\n",
       "      <td>...</td>\n",
       "      <td>1</td>\n",
       "      <td>4</td>\n",
       "      <td>2</td>\n",
       "      <td>4</td>\n",
       "      <td>1</td>\n",
       "      <td>2</td>\n",
       "      <td>6</td>\n",
       "      <td>2</td>\n",
       "      <td>2</td>\n",
       "      <td>1</td>\n",
       "    </tr>\n",
       "    <tr>\n",
       "      <th>2</th>\n",
       "      <td>3</td>\n",
       "      <td>W_17697_50_ivy_M.jpg</td>\n",
       "      <td>1950</td>\n",
       "      <td>ivy</td>\n",
       "      <td>M</td>\n",
       "      <td>3</td>\n",
       "      <td>1</td>\n",
       "      <td>1</td>\n",
       "      <td>2</td>\n",
       "      <td>2</td>\n",
       "      <td>...</td>\n",
       "      <td>1</td>\n",
       "      <td>4</td>\n",
       "      <td>2</td>\n",
       "      <td>4</td>\n",
       "      <td>1</td>\n",
       "      <td>2</td>\n",
       "      <td>6</td>\n",
       "      <td>2</td>\n",
       "      <td>2</td>\n",
       "      <td>1</td>\n",
       "    </tr>\n",
       "  </tbody>\n",
       "</table>\n",
       "<p>3 rows × 40 columns</p>\n",
       "</div>"
      ],
      "text/plain": [
       "   E_id               imgName   era style gender  Q1  Q2  Q3  Q411  Q412  ...  \\\n",
       "0     1  W_15268_50_ivy_M.jpg  1950   ivy      M   4   1   1     3     2  ...   \n",
       "1     2  W_16543_50_ivy_M.jpg  1950   ivy      M   2   1   2     2     2  ...   \n",
       "2     3  W_17697_50_ivy_M.jpg  1950   ivy      M   3   1   1     2     2  ...   \n",
       "\n",
       "   r_gender  age  mar  job  income  r_style1  r_style2  r_style3  r_style4  \\\n",
       "0         1    4    2    4       1         2         6         2         2   \n",
       "1         1    4    2    4       1         2         6         2         2   \n",
       "2         1    4    2    4       1         2         6         2         2   \n",
       "\n",
       "   r_style5  \n",
       "0         1  \n",
       "1         1  \n",
       "2         1  \n",
       "\n",
       "[3 rows x 40 columns]"
      ]
     },
     "execution_count": 17,
     "metadata": {},
     "output_type": "execute_result"
    }
   ],
   "source": [
    "kdf = pd.read_excel(\"패션 선호도조사 결과_일부data(1108-1).xlsx\", sheet_name='rawdata_1차(1108)', engine='openpyxl')\n",
    "#kdf = kdf.rename(columns=kdf.iloc[0])\n",
    "#kdf = kdf.drop(kdf.index[0])\n",
    "print(kdf.shape)\n",
    "kdf.head(3)"
   ]
  },
  {
   "cell_type": "code",
   "execution_count": 18,
   "id": "69aeac80",
   "metadata": {},
   "outputs": [
    {
     "data": {
      "text/plain": [
       "E_id        0\n",
       "imgName     0\n",
       "era         0\n",
       "style       0\n",
       "gender      0\n",
       "Q1          0\n",
       "Q2          0\n",
       "Q3          0\n",
       "Q411        0\n",
       "Q412        0\n",
       "Q413        0\n",
       "Q414        0\n",
       "Q4201       0\n",
       "Q4202       0\n",
       "Q4203       0\n",
       "Q4204       0\n",
       "Q4205       0\n",
       "Q4206       0\n",
       "Q4207       0\n",
       "Q4208       0\n",
       "Q4209       0\n",
       "Q4210       0\n",
       "Q4211       0\n",
       "Q4212       0\n",
       "Q4213       0\n",
       "Q4214       0\n",
       "Q4215       0\n",
       "Q4216       0\n",
       "Q5          0\n",
       "R_id        0\n",
       "r_gender    0\n",
       "age         0\n",
       "mar         0\n",
       "job         0\n",
       "income      0\n",
       "r_style1    0\n",
       "r_style2    0\n",
       "r_style3    0\n",
       "r_style4    0\n",
       "r_style5    0\n",
       "dtype: int64"
      ]
     },
     "execution_count": 18,
     "metadata": {},
     "output_type": "execute_result"
    }
   ],
   "source": [
    "kdf.isna().sum()"
   ]
  },
  {
   "cell_type": "code",
   "execution_count": 14,
   "id": "a1d11ef5",
   "metadata": {},
   "outputs": [
    {
     "data": {
      "text/plain": [
       "array([4, 2, 3, 1])"
      ]
     },
     "execution_count": 14,
     "metadata": {},
     "output_type": "execute_result"
    }
   ],
   "source": [
    "kdf.age.unique()"
   ]
  },
  {
   "cell_type": "code",
   "execution_count": 13,
   "id": "587057cc",
   "metadata": {},
   "outputs": [
    {
     "data": {
      "text/plain": [
       "array([2, 1])"
      ]
     },
     "execution_count": 13,
     "metadata": {},
     "output_type": "execute_result"
    }
   ],
   "source": [
    "kdf.mar.unique()"
   ]
  },
  {
   "cell_type": "code",
   "execution_count": 12,
   "id": "57e910a7",
   "metadata": {},
   "outputs": [
    {
     "data": {
      "text/plain": [
       "array([4, 6, 1, 2, 3, 5])"
      ]
     },
     "execution_count": 12,
     "metadata": {},
     "output_type": "execute_result"
    }
   ],
   "source": [
    "kdf.job.unique()"
   ]
  },
  {
   "cell_type": "code",
   "execution_count": 6,
   "id": "687fc3f7",
   "metadata": {},
   "outputs": [
    {
     "data": {
      "text/plain": [
       "array([6, 1, 5, 3, 2, 4])"
      ]
     },
     "execution_count": 6,
     "metadata": {},
     "output_type": "execute_result"
    }
   ],
   "source": [
    "kdf.r_style2.unique()"
   ]
  },
  {
   "cell_type": "code",
   "execution_count": 7,
   "id": "fca0efdc",
   "metadata": {},
   "outputs": [
    {
     "data": {
      "text/plain": [
       "array([1, 2])"
      ]
     },
     "execution_count": 7,
     "metadata": {},
     "output_type": "execute_result"
    }
   ],
   "source": [
    "kdf.income.unique()"
   ]
  },
  {
   "cell_type": "markdown",
   "id": "d97bd2f1",
   "metadata": {},
   "source": [
    "# 1. User Data Preprocessing"
   ]
  },
  {
   "cell_type": "code",
   "execution_count": null,
   "id": "94074fee",
   "metadata": {},
   "outputs": [],
   "source": [
    "user_data = kdf[[\"R_id\", \"r_gender\", \"age\", \"mar\", \"job\", \"income\", \n",
    "                 \"r_style1\", \"r_style2\", \"r_style3\", \"r_style4\", \"r_style5\"]]\n",
    "user_data = user_data.drop_duplicates(['R_id']).reset_index(drop=True)\n",
    "user_data[\"user\"] = user_data.reset_index()[\"index\"]\n",
    "user_data = user_data[[\"user\", \"R_id\", \"r_gender\", \"age\", \"mar\", \"job\", \"income\", \n",
    "                 \"r_style1\", \"r_style2\", \"r_style3\", \"r_style4\", \"r_style5\"]]\n",
    "print(user_data.shape)\n",
    "user_data"
   ]
  },
  {
   "cell_type": "code",
   "execution_count": null,
   "id": "376756ea",
   "metadata": {},
   "outputs": [],
   "source": [
    "user_data.columns = [\"user\", \"user_name\", \"r_gender\", \"age\", \"mar\", \"job\", \"income\",\n",
    "                     \"r_style1\", \"r_style2\", \"r_style3\", \"r_style4\", \"r_style5\"]\n",
    "user_data = user_data[[\"user\", \"user_name\", \"r_gender\", \"age\", \"mar\", \"job\", \"income\",\n",
    "                     \"r_style1\", \"r_style2\", \"r_style3\", \"r_style4\", \"r_style5\"]]\n",
    "user_data = int_memory_reduce(user_data)\n",
    "user_data = float_memory_reduce(user_data)\n",
    "user_data = object_memory_reduce(user_data)"
   ]
  },
  {
   "cell_type": "code",
   "execution_count": null,
   "id": "408e23d8",
   "metadata": {},
   "outputs": [],
   "source": [
    "user_data"
   ]
  },
  {
   "cell_type": "code",
   "execution_count": null,
   "id": "cef286fb",
   "metadata": {},
   "outputs": [],
   "source": [
    "user_data.to_csv(\"../KData/user_data.csv\")\n",
    "user_data"
   ]
  },
  {
   "cell_type": "markdown",
   "id": "b148d358",
   "metadata": {},
   "source": [
    "# 2. Item Data Preprocessing"
   ]
  },
  {
   "cell_type": "code",
   "execution_count": null,
   "id": "fe2ea038",
   "metadata": {},
   "outputs": [],
   "source": [
    "# Q2\n",
    "q2_dict = {\"1\" : \"spring fall\", \"2\" : \"summer\", \"3\" : \"winter\"}\n",
    "\n",
    "# Q3\n",
    "q3_dict = {\"1\" : \"attendance\",\n",
    "           \"2\" : \"date\",\n",
    "           \"3\" : \"event\",\n",
    "           \"4\" : \"social gathering\",\n",
    "           \"5\" : \"daily\",\n",
    "           \"6\" : \"leisure sports\",\n",
    "           \"7\" : \"trip vacation\",\n",
    "           \"8\" : \"etc\"}\n",
    "\n",
    "# Q411\n",
    "q411_dict = {\"1\":\"loose\",\n",
    "             \"2\":\"appropriate\",\n",
    "             \"3\":\"tight\"}\n",
    "\n",
    "# Q412\n",
    "q412_dict = {\"1\":\"dark\",\n",
    "             \"2\":\"bright\"}\n",
    "\n",
    "# Q413\n",
    "q413_dict = {\"1\":\"cold\",\n",
    "             \"2\":\"warm\"}\n",
    "\n",
    "# Q414\n",
    "q414_dict = {\"1\":\"heavy\",\n",
    "             \"2\":\"light\"}\n",
    "\n",
    "\n",
    "\n",
    "# Q4201\n",
    "q4201_dict = {\"0\":\"no\",\n",
    "              \"1\":\"nice\"}\n",
    "\n",
    "# Q4202\n",
    "q4202_dict = {\"0\":\"no\",\n",
    "              \"2\":\"urban\"}\n",
    "\n",
    "# Q4203\n",
    "q4203_dict = {\"0\":\"no\",\n",
    "              \"3\":\"trendy\"}\n",
    "\n",
    "# Q4204\n",
    "q4204_dict = {\"0\":\"no\",\n",
    "              \"4\":\"sophisticated\"}\n",
    "\n",
    "# Q4205\n",
    "q4205_dict = {\"0\":\"no\",\n",
    "              \"5\":\"clean\"}\n",
    "\n",
    "# Q4206\n",
    "q4206_dict = {\"0\":\"no\",\n",
    "              \"6\":\"magnificent\"}\n",
    "\n",
    "# Q4207\n",
    "q4207_dict = {\"0\":\"no\",\n",
    "              \"7\":\"unique\"}\n",
    "\n",
    "# Q4208\n",
    "q4208_dict = {\"0\":\"no\",\n",
    "              \"8\":\"easy\"}\n",
    "\n",
    "# Q4209\n",
    "q4209_dict = {\"0\":\"no\",\n",
    "              \"9\":\"open mined\"}\n",
    "\n",
    "# Q4210\n",
    "q4210_dict = {\"0\":\"no\",\n",
    "              \"10\":\"practical\"}\n",
    "\n",
    "# Q4211\n",
    "q4211_dict = {\"0\":\"no\",\n",
    "              \"11\":\"activity\"}\n",
    "\n",
    "# Q4212\n",
    "q4212_dict = {\"0\":\"no\",\n",
    "              \"12\":\"comfortable\"}\n",
    "\n",
    "# Q4213\n",
    "q4213_dict = {\"0\":\"no\",\n",
    "              \"13\":\"bubbly\"}\n",
    "\n",
    "# Q4214\n",
    "q4214_dict = {\"0\":\"no\",\n",
    "              \"14\":\"feminine\"}\n",
    "\n",
    "# Q4215\n",
    "q4215_dict = {\"0\":\"no\",\n",
    "              \"15\":\"manly\"}\n",
    "\n",
    "# Q4216\n",
    "q4216_dict = {\"0\":\"no\",\n",
    "              \"16\":\"soft\"}\n"
   ]
  },
  {
   "cell_type": "code",
   "execution_count": null,
   "id": "77232bf6",
   "metadata": {},
   "outputs": [],
   "source": [
    "item_data = kdf[['imgName','era','style','gender', \n",
    "                 'Q1','Q2','Q3','Q411','Q412','Q413','Q414','Q4201','Q4202','Q4203','Q4204','Q4205',\n",
    "                 'Q4206','Q4207','Q4208','Q4209','Q4210','Q4211','Q4212','Q4213','Q4214','Q4215','Q4216','Q5']]\n",
    "item_data"
   ]
  },
  {
   "cell_type": "code",
   "execution_count": null,
   "id": "8bfca9ab",
   "metadata": {},
   "outputs": [],
   "source": [
    "for col_i in ['Q2','Q3','Q411','Q412','Q413','Q414','Q4201','Q4202','Q4203','Q4204','Q4205',\n",
    "          'Q4206','Q4207','Q4208','Q4209','Q4210','Q4211','Q4212','Q4213','Q4214','Q4215','Q4216']:\n",
    "    item_data.loc[:, col_i] = item_data.loc[:, col_i].astype(\"str\")\n",
    "item_data.info()"
   ]
  },
  {
   "cell_type": "code",
   "execution_count": null,
   "id": "f448d5f9",
   "metadata": {},
   "outputs": [],
   "source": [
    "item_data[\"season\"] = [q2_dict[str(i)] for i in item_data[\"Q2\"].values.tolist()]\n",
    "item_data[\"tpo\"] = [q3_dict[str(i)] for i in item_data[\"Q3\"].values.tolist()]\n",
    "item_data[\"fit\"] = [q411_dict[str(i)] for i in item_data[\"Q411\"].values.tolist()]\n",
    "item_data[\"brightness\"] = [q412_dict[str(i)] for i in item_data[\"Q412\"].values.tolist()]\n",
    "item_data[\"temperature\"] = [q413_dict[str(i)] for i in item_data[\"Q413\"].values.tolist()]\n",
    "item_data[\"weight\"] = [q414_dict[str(i)] for i in item_data[\"Q414\"].values.tolist()]\n",
    "\n",
    "item_data[\"nice\"] = [q4201_dict[str(i)] for i in item_data[\"Q4201\"].values.tolist()]\n",
    "item_data[\"urban\"] = [q4202_dict[str(i)] for i in item_data[\"Q4202\"].values.tolist()]\n",
    "item_data[\"trendy\"] = [q4203_dict[str(i)] for i in item_data[\"Q4203\"].values.tolist()]\n",
    "item_data[\"sophisticated\"] = [q4204_dict[str(i)] for i in item_data[\"Q4204\"].values.tolist()]\n",
    "item_data[\"clean\"] = [q4205_dict[str(i)] for i in item_data[\"Q4205\"].values.tolist()]\n",
    "item_data[\"magnificent\"] = [q4206_dict[str(i)] for i in item_data[\"Q4206\"].values.tolist()]\n",
    "item_data[\"unique\"] = [q4207_dict[str(i)] for i in item_data[\"Q4207\"].values.tolist()]\n",
    "item_data[\"easy\"] = [q4208_dict[str(i)] for i in item_data[\"Q4208\"].values.tolist()]\n",
    "item_data[\"open\"] = [q4209_dict[str(i)] for i in item_data[\"Q4209\"].values.tolist()]\n",
    "item_data[\"practical\"] = [q4210_dict[str(i)] for i in item_data[\"Q4210\"].values.tolist()]\n",
    "item_data[\"activity\"] = [q4211_dict[str(i)] for i in item_data[\"Q4211\"].values.tolist()]\n",
    "item_data[\"comfortable\"] = [q4212_dict[str(i)] for i in item_data[\"Q4212\"].values.tolist()]\n",
    "item_data[\"bubbly\"] = [q4213_dict[str(i)] for i in item_data[\"Q4213\"].values.tolist()]\n",
    "item_data[\"feminine\"] = [q4214_dict[str(i)] for i in item_data[\"Q4214\"].values.tolist()]\n",
    "item_data[\"manly\"] = [q4215_dict[str(i)] for i in item_data[\"Q4215\"].values.tolist()]\n",
    "item_data[\"soft\"] = [q4216_dict[str(i)] for i in item_data[\"Q4216\"].values.tolist()]"
   ]
  },
  {
   "cell_type": "code",
   "execution_count": null,
   "id": "b2eef323",
   "metadata": {},
   "outputs": [],
   "source": [
    "item_data = item_data[[\"imgName\", \"era\", \"style\", \"gender\", 'season', 'tpo', 'fit', 'brightness',\n",
    "                       'temperature', 'weight', 'nice', 'urban', 'trendy', 'sophisticated',\n",
    "                       'clean', 'magnificent', 'unique', 'easy', 'open', 'practical',\n",
    "                       'activity', 'comfortable', 'bubbly', 'feminine', 'manly', 'soft', \"Q1\", \"Q5\"]]"
   ]
  },
  {
   "cell_type": "code",
   "execution_count": null,
   "id": "3a85fba0",
   "metadata": {},
   "outputs": [],
   "source": [
    "for col_l in item_data.columns:\n",
    "    unq_l = len(item_data[col_l].unique())\n",
    "    print(f\"{unq_l}:{item_data[col_l].unique()}\")"
   ]
  },
  {
   "cell_type": "code",
   "execution_count": null,
   "id": "717f2be5",
   "metadata": {},
   "outputs": [],
   "source": [
    "item_data = pd.get_dummies(item_data, columns = ['season', \"tpo\", 'fit', 'brightness',\n",
    "                                                 'temperature', 'weight', 'nice', 'urban', 'trendy', 'sophisticated',\n",
    "                                                 'clean', 'magnificent', 'unique', 'easy', 'open', 'practical',\n",
    "                                                 'activity', 'comfortable', 'bubbly', 'feminine', 'manly', 'soft'])\n",
    "item_data = item_data.groupby([\"imgName\", \"era\", \"style\", \"gender\"]).sum().reset_index()\n",
    "item_data"
   ]
  },
  {
   "cell_type": "code",
   "execution_count": null,
   "id": "53218b49",
   "metadata": {},
   "outputs": [],
   "source": [
    "item_data.columns = [\"item_name\", \"era\", \"style\", \"gender\"] + item_data.columns.tolist()[4:]\n",
    "item_data = int_memory_reduce(item_data)\n",
    "item_data = float_memory_reduce(item_data)\n",
    "item_data = object_memory_reduce(item_data)\n",
    "item_data"
   ]
  },
  {
   "cell_type": "code",
   "execution_count": null,
   "id": "69fbef15",
   "metadata": {},
   "outputs": [],
   "source": [
    "# season\n",
    "spring_and_fall = item_data[item_data[\"season_spring fall\"]>=1].index\n",
    "summer = item_data[item_data[\"season_summer\"]>=1].index\n",
    "winter = item_data[item_data[\"season_winter\"]>=1].index\n",
    "\n",
    "# tpo\n",
    "attend = item_data[item_data[\"tpo_attendance\"]>=1].index\n",
    "daily = item_data[item_data[\"tpo_daily\"]>=1].index\n",
    "date = item_data[item_data[\"tpo_date\"]>=1].index\n",
    "etc = item_data[item_data[\"tpo_etc\"]>=1].index\n",
    "event = item_data[item_data[\"tpo_event\"]>=1].index\n",
    "sports = item_data[item_data[\"tpo_leisure sports\"]>=1].index\n",
    "social = item_data[item_data[\"tpo_social gathering\"]>=1].index\n",
    "trip = item_data[item_data[\"tpo_trip vacation\"]>=1].index\n",
    "\n",
    "# fit\n",
    "appro = item_data[item_data[\"fit_appropriate\"]>=1].index\n",
    "loo = item_data[item_data[\"fit_loose\"]>=1].index\n",
    "tig = item_data[item_data[\"fit_tight\"]>=1].index\n",
    "\n",
    "# brightness\n",
    "bright = item_data[item_data[\"brightness_bright\"]>=1].index\n",
    "dark = item_data[item_data[\"brightness_dark\"]>=1].index\n",
    "\n",
    "# temperature\n",
    "cold = item_data[item_data[\"temperature_cold\"]>=1].index\n",
    "warm = item_data[item_data[\"temperature_warm\"]>=1].index\n",
    "\n",
    "# weight\n",
    "heavy = item_data[item_data[\"weight_heavy\"]>=1].index\n",
    "light = item_data[item_data[\"weight_light\"]>=1].index\n",
    "\n",
    "\n",
    "\n",
    "nice_no = item_data[item_data[\"nice_no\"]>=1].index\n",
    "nice_nice = item_data[item_data[\"nice_nice\"]>=1].index\n",
    "\n",
    "urban_no = item_data[item_data[\"urban_no\"]>=1].index\n",
    "urban_urban = item_data[item_data[\"urban_urban\"]>=1].index\n",
    "\n",
    "trendy_no = item_data[item_data[\"trendy_no\"]>=1].index\n",
    "trendy_trendy = item_data[item_data[\"trendy_trendy\"]>=1].index\n",
    "\n",
    "sophisticated_no = item_data[item_data[\"sophisticated_no\"]>=1].index\n",
    "sophisticated_sohp = item_data[item_data[\"sophisticated_sophisticated\"]>=1].index\n",
    "\n",
    "clean_no = item_data[item_data[\"clean_no\"]>=1].index\n",
    "clean_clean = item_data[item_data[\"clean_clean\"]>=1].index\n",
    "\n",
    "magnificent_no = item_data[item_data[\"magnificent_no\"]>=1].index\n",
    "magnificent_magnificent = item_data[item_data[\"magnificent_magnificent\"]>=1].index\n",
    "\n",
    "unique_no = item_data[item_data[\"unique_no\"]>=1].index\n",
    "unique_unique = item_data[item_data[\"unique_unique\"]>=1].index\n",
    "\n",
    "easy_no = item_data[item_data[\"easy_no\"]>=1].index\n",
    "easy_easy = item_data[item_data[\"easy_easy\"]>=1].index\n",
    "\n",
    "open_no = item_data[item_data[\"open_no\"]>=1].index\n",
    "open_open = item_data[item_data[\"open_open mined\"]>=1].index\n",
    "\n",
    "practical_no = item_data[item_data[\"practical_no\"]>=1].index\n",
    "practical_practical = item_data[item_data[\"practical_practical\"]>=1].index\n",
    "\n",
    "activity_no = item_data[item_data[\"activity_no\"]>=1].index\n",
    "activity_activity = item_data[item_data[\"activity_activity\"]>=1].index\n",
    "\n",
    "comfortable_no = item_data[item_data[\"comfortable_no\"]>=1].index\n",
    "comfortable_comfortable = item_data[item_data[\"comfortable_comfortable\"]>=1].index\n",
    "\n",
    "bubbly_no = item_data[item_data[\"bubbly_no\"]>=1].index\n",
    "bubbly_bubbly = item_data[item_data[\"bubbly_bubbly\"]>=1].index\n",
    "\n",
    "feminine_no = item_data[item_data[\"feminine_no\"]>=1].index\n",
    "feminine_feminine = item_data[item_data[\"feminine_feminine\"]>=1].index\n",
    "\n",
    "manly_no = item_data[item_data[\"manly_no\"]>=1].index\n",
    "manly_manly = item_data[item_data[\"manly_manly\"]>=1].index\n",
    "\n",
    "soft_no = item_data[item_data[\"soft_no\"]>=1].index\n",
    "soft_soft = item_data[item_data[\"soft_soft\"]>=1].index"
   ]
  },
  {
   "cell_type": "code",
   "execution_count": null,
   "id": "013e596a",
   "metadata": {},
   "outputs": [],
   "source": [
    "item_data[\"season\"] = \"\" \n",
    "item_data[\"tpo\"] = \"\"\n",
    "item_data[\"fit\"] = \"\"\n",
    "item_data[\"brightness\"] = \"\"\n",
    "item_data[\"temperature\"] = \"\"\n",
    "item_data[\"weight\"] = \"\"\n",
    "# item_data[\"nice\"] = \"\"\n",
    "# item_data[\"urban\"] = \"\"\n",
    "# item_data[\"trendy\"] = \"\"\n",
    "# item_data[\"sophisticated\"] = \"\"\n",
    "# item_data[\"clean\"] = \"\"\n",
    "# item_data[\"magnificent\"] = \"\"\n",
    "# item_data[\"unique\"] = \"\"\n",
    "# item_data[\"easy\"] = \"\"\n",
    "# item_data[\"open\"] = \"\"\n",
    "# item_data[\"practical\"] = \"\"\n",
    "# item_data[\"activity\"] = \"\"\n",
    "# item_data[\"comfortable\"] = \"\"\n",
    "# item_data[\"bubbly\"] = \"\"\n",
    "# item_data[\"feminine\"] = \"\"\n",
    "# item_data[\"manly\"] = \"\"\n",
    "# item_data[\"soft\"] = \"\""
   ]
  },
  {
   "cell_type": "code",
   "execution_count": null,
   "id": "be8801fd",
   "metadata": {},
   "outputs": [],
   "source": [
    "item_data.iloc[spring_and_fall, -6] = \"spring fall\"\n",
    "item_data.iloc[summer, -6] = item_data.iloc[summer, -6] + \" summer\"\n",
    "item_data.iloc[winter, -6] = item_data.iloc[winter, -6] + \" winter\"\n",
    "item_data.head()"
   ]
  },
  {
   "cell_type": "code",
   "execution_count": null,
   "id": "0d350a4a",
   "metadata": {},
   "outputs": [],
   "source": [
    "item_data.iloc[attend, -5] = \"attendance\"\n",
    "item_data.iloc[daily, -5] = item_data.iloc[daily, -5] + \" daily\"\n",
    "item_data.iloc[date, -5] = item_data.iloc[date, -5] + \" date\"\n",
    "item_data.iloc[etc, -5] = item_data.iloc[etc, -5] + \" etc\"\n",
    "item_data.iloc[event, -5] = item_data.iloc[event, -5] + \" event\"\n",
    "item_data.iloc[sports, -5] = item_data.iloc[sports, -5] + \" leisure sports\"\n",
    "item_data.iloc[social, -5] = item_data.iloc[social, -5] + \" social gathering\"\n",
    "item_data.iloc[trip, -5] = item_data.iloc[trip, -5] + \" social trip vacation\"\n",
    "item_data.head()"
   ]
  },
  {
   "cell_type": "code",
   "execution_count": null,
   "id": "e7ab1965",
   "metadata": {},
   "outputs": [],
   "source": [
    "item_data.iloc[appro, -4] = \"appropriate\"\n",
    "item_data.iloc[loo, -4] = item_data.iloc[loo, -4] + \" loose\"\n",
    "item_data.iloc[tig, -4] = item_data.iloc[tig, -4] + \" tight\"\n",
    "\n",
    "item_data.iloc[bright, -3] = item_data.iloc[bright, -3] + \" bright\"\n",
    "item_data.iloc[dark, -3] = item_data.iloc[dark, -3] + \" dark\"\n",
    "\n",
    "item_data.iloc[cold, -2] = item_data.iloc[cold, -2] + \" cold\"\n",
    "item_data.iloc[warm, -2] = item_data.iloc[warm, -2] + \" warm\"\n",
    "\n",
    "item_data.iloc[heavy, -1] = item_data.iloc[heavy, -1] + \" heavy\"\n",
    "item_data.iloc[light, -1] = item_data.iloc[light, -1] + \" light\"\n",
    "item_data.head()"
   ]
  },
  {
   "cell_type": "code",
   "execution_count": null,
   "id": "2eb324ce",
   "metadata": {},
   "outputs": [],
   "source": [
    "for col_lll in item_data.columns.tolist()[-6:]:\n",
    "    print(item_data[col_lll].unique())"
   ]
  },
  {
   "cell_type": "code",
   "execution_count": null,
   "id": "256d0b48",
   "metadata": {},
   "outputs": [],
   "source": [
    "item_data[\"item\"] = item_data.reset_index()[\"index\"]\n",
    "item_data = \\\n",
    "item_data[['item','item_name', 'era', 'style', 'gender',\n",
    "           'season', 'tpo', 'fit', 'brightness', 'temperature', 'weight',\n",
    "           'nice_nice', 'nice_no', 'urban_no', 'urban_urban', 'trendy_no',\n",
    "           'trendy_trendy', 'sophisticated_no', 'sophisticated_sophisticated',\n",
    "           'clean_clean', 'clean_no', 'magnificent_magnificent', 'magnificent_no',\n",
    "           'unique_no', 'unique_unique', 'easy_easy', 'easy_no', 'open_no',\n",
    "           'open_open mined', 'practical_no', 'practical_practical',\n",
    "           'activity_activity', 'activity_no', 'comfortable_comfortable',\n",
    "           'comfortable_no', 'bubbly_bubbly', 'bubbly_no', 'feminine_feminine',\n",
    "           'feminine_no', 'manly_manly', 'manly_no', 'soft_no', 'soft_soft']]"
   ]
  },
  {
   "cell_type": "code",
   "execution_count": null,
   "id": "55bc09f2",
   "metadata": {},
   "outputs": [],
   "source": [
    "item_data['season'] = item_data['season'].str.strip()\n",
    "item_data['tpo'] = item_data['tpo'].str.strip()\n",
    "item_data['fit'] = item_data['fit'].str.strip()\n",
    "item_data['brightness'] = item_data['brightness'].str.strip()\n",
    "item_data['temperature'] = item_data['temperature'].str.strip()\n",
    "item_data['weight'] = item_data['weight'].str.strip()"
   ]
  },
  {
   "cell_type": "code",
   "execution_count": null,
   "id": "49a7f0d1",
   "metadata": {},
   "outputs": [],
   "source": [
    "item_data.head()"
   ]
  },
  {
   "cell_type": "code",
   "execution_count": null,
   "id": "79a634c8",
   "metadata": {},
   "outputs": [],
   "source": [
    "for re_col in item_data.columns.tolist()[11:]:\n",
    "    item_data.loc[item_data[re_col] >= 1, re_col] = 1"
   ]
  },
  {
   "cell_type": "code",
   "execution_count": null,
   "id": "7f9c29c3",
   "metadata": {},
   "outputs": [],
   "source": [
    "item_data = int_memory_reduce(item_data)\n",
    "item_data = float_memory_reduce(item_data)\n",
    "item_data = object_memory_reduce(item_data)\n",
    "item_data.to_csv(\"../KData/item_data.csv\")\n",
    "item_data"
   ]
  },
  {
   "cell_type": "markdown",
   "id": "c4580146",
   "metadata": {},
   "source": [
    "# 3. Rating Data Preprocessing"
   ]
  },
  {
   "cell_type": "code",
   "execution_count": 19,
   "id": "15ca4990",
   "metadata": {},
   "outputs": [
    {
     "name": "stdout",
     "output_type": "stream",
     "text": [
      "(38284, 4)\n"
     ]
    },
    {
     "data": {
      "text/html": [
       "<div>\n",
       "<style scoped>\n",
       "    .dataframe tbody tr th:only-of-type {\n",
       "        vertical-align: middle;\n",
       "    }\n",
       "\n",
       "    .dataframe tbody tr th {\n",
       "        vertical-align: top;\n",
       "    }\n",
       "\n",
       "    .dataframe thead th {\n",
       "        text-align: right;\n",
       "    }\n",
       "</style>\n",
       "<table border=\"1\" class=\"dataframe\">\n",
       "  <thead>\n",
       "    <tr style=\"text-align: right;\">\n",
       "      <th></th>\n",
       "      <th>user</th>\n",
       "      <th>item</th>\n",
       "      <th>Q1</th>\n",
       "      <th>Q5</th>\n",
       "    </tr>\n",
       "  </thead>\n",
       "  <tbody>\n",
       "    <tr>\n",
       "      <th>0</th>\n",
       "      <td>27</td>\n",
       "      <td>W_15268_50_ivy_M.jpg</td>\n",
       "      <td>4</td>\n",
       "      <td>2</td>\n",
       "    </tr>\n",
       "    <tr>\n",
       "      <th>1</th>\n",
       "      <td>27</td>\n",
       "      <td>W_16543_50_ivy_M.jpg</td>\n",
       "      <td>2</td>\n",
       "      <td>1</td>\n",
       "    </tr>\n",
       "    <tr>\n",
       "      <th>2</th>\n",
       "      <td>27</td>\n",
       "      <td>W_17697_50_ivy_M.jpg</td>\n",
       "      <td>3</td>\n",
       "      <td>2</td>\n",
       "    </tr>\n",
       "    <tr>\n",
       "      <th>3</th>\n",
       "      <td>27</td>\n",
       "      <td>W_00485_60_mods_M.jpg</td>\n",
       "      <td>4</td>\n",
       "      <td>2</td>\n",
       "    </tr>\n",
       "    <tr>\n",
       "      <th>4</th>\n",
       "      <td>27</td>\n",
       "      <td>W_06723_60_mods_M.jpg</td>\n",
       "      <td>3</td>\n",
       "      <td>2</td>\n",
       "    </tr>\n",
       "  </tbody>\n",
       "</table>\n",
       "</div>"
      ],
      "text/plain": [
       "   user                   item  Q1  Q5\n",
       "0    27   W_15268_50_ivy_M.jpg   4   2\n",
       "1    27   W_16543_50_ivy_M.jpg   2   1\n",
       "2    27   W_17697_50_ivy_M.jpg   3   2\n",
       "3    27  W_00485_60_mods_M.jpg   4   2\n",
       "4    27  W_06723_60_mods_M.jpg   3   2"
      ]
     },
     "execution_count": 19,
     "metadata": {},
     "output_type": "execute_result"
    }
   ],
   "source": [
    "rate_data = kdf[[\"R_id\", \"imgName\", \"Q1\", \"Q5\"]]\n",
    "rate_data.columns = [\"user\", \"item\", \"Q1\", \"Q5\"]\n",
    "print(rate_data.shape)\n",
    "rate_data.head()"
   ]
  },
  {
   "cell_type": "code",
   "execution_count": 20,
   "id": "92b37b95",
   "metadata": {},
   "outputs": [
    {
     "data": {
      "text/html": [
       "<div>\n",
       "<style scoped>\n",
       "    .dataframe tbody tr th:only-of-type {\n",
       "        vertical-align: middle;\n",
       "    }\n",
       "\n",
       "    .dataframe tbody tr th {\n",
       "        vertical-align: top;\n",
       "    }\n",
       "\n",
       "    .dataframe thead th {\n",
       "        text-align: right;\n",
       "    }\n",
       "</style>\n",
       "<table border=\"1\" class=\"dataframe\">\n",
       "  <thead>\n",
       "    <tr style=\"text-align: right;\">\n",
       "      <th></th>\n",
       "      <th>Q1</th>\n",
       "      <th>Q5</th>\n",
       "    </tr>\n",
       "  </thead>\n",
       "  <tbody>\n",
       "    <tr>\n",
       "      <th>Q1</th>\n",
       "      <td>1.000000</td>\n",
       "      <td>0.830661</td>\n",
       "    </tr>\n",
       "    <tr>\n",
       "      <th>Q5</th>\n",
       "      <td>0.830661</td>\n",
       "      <td>1.000000</td>\n",
       "    </tr>\n",
       "  </tbody>\n",
       "</table>\n",
       "</div>"
      ],
      "text/plain": [
       "          Q1        Q5\n",
       "Q1  1.000000  0.830661\n",
       "Q5  0.830661  1.000000"
      ]
     },
     "execution_count": 20,
     "metadata": {},
     "output_type": "execute_result"
    }
   ],
   "source": [
    "rate_data[[\"Q1\", \"Q5\"]].corr()"
   ]
  },
  {
   "cell_type": "code",
   "execution_count": 21,
   "id": "ecfe0c76",
   "metadata": {},
   "outputs": [
    {
     "ename": "NameError",
     "evalue": "name 'user_data' is not defined",
     "output_type": "error",
     "traceback": [
      "\u001b[0;31m---------------------------------------------------------------------------\u001b[0m",
      "\u001b[0;31mNameError\u001b[0m                                 Traceback (most recent call last)",
      "Input \u001b[0;32mIn [21]\u001b[0m, in \u001b[0;36m<cell line: 1>\u001b[0;34m()\u001b[0m\n\u001b[0;32m----> 1\u001b[0m u_dict \u001b[38;5;241m=\u001b[39m \u001b[43muser_data\u001b[49m[[\u001b[38;5;124m\"\u001b[39m\u001b[38;5;124muser\u001b[39m\u001b[38;5;124m\"\u001b[39m, \u001b[38;5;124m\"\u001b[39m\u001b[38;5;124muser_name\u001b[39m\u001b[38;5;124m\"\u001b[39m]]\u001b[38;5;241m.\u001b[39mastype(\u001b[38;5;124m\"\u001b[39m\u001b[38;5;124mstr\u001b[39m\u001b[38;5;124m\"\u001b[39m)\u001b[38;5;241m.\u001b[39mset_index(\u001b[38;5;124m\"\u001b[39m\u001b[38;5;124muser_name\u001b[39m\u001b[38;5;124m\"\u001b[39m)\n\u001b[1;32m      2\u001b[0m u_dict \u001b[38;5;241m=\u001b[39m u_dict\u001b[38;5;241m.\u001b[39mT\u001b[38;5;241m.\u001b[39mto_dict(\u001b[38;5;124m'\u001b[39m\u001b[38;5;124mrecords\u001b[39m\u001b[38;5;124m'\u001b[39m)[\u001b[38;5;241m0\u001b[39m]\n\u001b[1;32m      4\u001b[0m i_dict \u001b[38;5;241m=\u001b[39m item_data[[\u001b[38;5;124m\"\u001b[39m\u001b[38;5;124mitem\u001b[39m\u001b[38;5;124m\"\u001b[39m, \u001b[38;5;124m\"\u001b[39m\u001b[38;5;124mitem_name\u001b[39m\u001b[38;5;124m\"\u001b[39m]]\u001b[38;5;241m.\u001b[39mastype(\u001b[38;5;124m\"\u001b[39m\u001b[38;5;124mstr\u001b[39m\u001b[38;5;124m\"\u001b[39m)\u001b[38;5;241m.\u001b[39mset_index(\u001b[38;5;124m\"\u001b[39m\u001b[38;5;124mitem_name\u001b[39m\u001b[38;5;124m\"\u001b[39m)\n",
      "\u001b[0;31mNameError\u001b[0m: name 'user_data' is not defined"
     ]
    }
   ],
   "source": [
    "u_dict = user_data[[\"user\", \"user_name\"]].astype(\"str\").set_index(\"user_name\")\n",
    "u_dict = u_dict.T.to_dict('records')[0]\n",
    "\n",
    "i_dict = item_data[[\"item\", \"item_name\"]].astype(\"str\").set_index(\"item_name\")\n",
    "i_dict = i_dict.T.to_dict('records')[0]"
   ]
  },
  {
   "cell_type": "code",
   "execution_count": null,
   "id": "5fa5c900",
   "metadata": {},
   "outputs": [],
   "source": [
    "#rate_data[\"user\"] = [int(u_dict[str(i)]) for i in rate_data[\"user\"].values.tolist()]\n",
    "rate_data[\"item\"] = [int(i_dict[str(i)]) for i in rate_data[\"item\"].values.tolist()]\n",
    "rate_data.head()"
   ]
  },
  {
   "cell_type": "code",
   "execution_count": null,
   "id": "d179d7b2",
   "metadata": {},
   "outputs": [],
   "source": [
    "rate_data.shape"
   ]
  },
  {
   "cell_type": "code",
   "execution_count": null,
   "id": "0a59ad1c",
   "metadata": {},
   "outputs": [],
   "source": [
    "# rate_data = rate_data.loc[(rate_data[\"Q5\"] == 2) & (rate_data[\"Q1\"] >= 3)].reset_index(drop=True)"
   ]
  },
  {
   "cell_type": "code",
   "execution_count": null,
   "id": "81717b22",
   "metadata": {},
   "outputs": [],
   "source": [
    "rate_data_q1q2 = rate_data[[\"user\", \"item\", \"Q1\", \"Q5\"]]\n",
    "rate_data_q1q2[\"rate\"] = rate_data_q1q2[[\"Q1\", \"Q5\"]].mean(axis=1)\n",
    "rate_data_q1q2 = rate_data_q1q2[[\"user\", \"item\", \"rate\"]]\n",
    "rate_data_q1q2"
   ]
  },
  {
   "cell_type": "code",
   "execution_count": null,
   "id": "8e2a3470",
   "metadata": {},
   "outputs": [],
   "source": [
    "rate_data_q1q2 = int_memory_reduce(rate_data_q1q2)\n",
    "rate_data_q1q2 = float_memory_reduce(rate_data_q1q2)\n",
    "rate_data_q1q2.to_csv(\"../KData/rate_data.csv\")\n",
    "rate_data_q1q2"
   ]
  },
  {
   "cell_type": "code",
   "execution_count": null,
   "id": "42b951d4",
   "metadata": {},
   "outputs": [],
   "source": []
  }
 ],
 "metadata": {
  "kernelspec": {
   "display_name": "Python 3 (ipykernel)",
   "language": "python",
   "name": "python3"
  },
  "language_info": {
   "codemirror_mode": {
    "name": "ipython",
    "version": 3
   },
   "file_extension": ".py",
   "mimetype": "text/x-python",
   "name": "python",
   "nbconvert_exporter": "python",
   "pygments_lexer": "ipython3",
   "version": "3.8.12"
  }
 },
 "nbformat": 4,
 "nbformat_minor": 5
}
